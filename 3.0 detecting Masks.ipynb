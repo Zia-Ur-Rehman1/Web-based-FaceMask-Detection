{
 "cells": [
  {
   "cell_type": "code",
   "execution_count": 1,
   "metadata": {},
   "outputs": [],
   "source": [
    "from keras.models import load_model\n",
    "import tensorflowjs as tfjs\n",
    "import cv2\n",
    "import numpy as np\n",
    "model = load_model('Face_Model/Models/{NAME}.model')\n",
    "# tfjs.converters.save_keras_model(model, 'models')\n"
   ]
  },
  {
   "cell_type": "code",
   "execution_count": 2,
   "metadata": {},
   "outputs": [],
   "source": [
    "\n",
    "face_clsfr=cv2.CascadeClassifier('haarcascade_frontalface_default.xml')\n",
    "\n",
    "source=cv2.VideoCapture(0)\n",
    "\n",
    "labels_dict={0:'NO MASK',1:'MASK'}\n",
    "color_dict={1:(0,255,0),0:(0,0,255)}\n",
    "while(True):\n",
    "\n",
    "    ret,img=source.read()\n",
    "    gray = cv2.cvtColor(img, cv2.COLOR_RGB2GRAY)\n",
    "\n",
    "    faces=face_clsfr.detectMultiScale(gray,1.3,5)  \n",
    "\n",
    "    for (x,y,w,h) in faces:\n",
    "    \n",
    "        face_img=gray[y:y+w,x:x+w]\n",
    "        resized=cv2.resize(face_img,(100,100))\n",
    "        normalized=resized/255.0\n",
    "        reshaped=np.reshape(normalized,(1,100,100,1))\n",
    "        result=model.predict(reshaped)\n",
    "\n",
    "        label=np.argmax(result,axis=1)[0]\n",
    "      \n",
    "        cv2.rectangle(img,(x,y),(x+w,y+h),color_dict[label],2)\n",
    "        cv2.rectangle(img,(x,y-40),(x+w,y),color_dict[label],-1)\n",
    "        cv2.putText(img, (labels_dict[label]), (x, y-10),cv2.FONT_HERSHEY_SIMPLEX,0.8,(255,255,255),2)\n",
    "        \n",
    "        \n",
    "    cv2.imshow('LIVE',img)\n",
    "    key=cv2.waitKey(1)\n",
    "    \n",
    "    if(key==27):\n",
    "        break\n",
    "        \n",
    "cv2.destroyAllWindows()\n",
    "source.release()"
   ]
  },
  {
   "cell_type": "code",
   "execution_count": 3,
   "metadata": {},
   "outputs": [],
   "source": [
    "def prepare(filepath):\n",
    "    img_size = 100 \n",
    "    img = cv2.imread(filepath, cv2.IMREAD_GRAYSCALE)/255  \n",
    "    img_resize = cv2.resize(img, (img_size, img_size))  \n",
    "    return img_resize.reshape(-1, img_size, img_size, 1)"
   ]
  },
  {
   "cell_type": "code",
   "execution_count": 6,
   "metadata": {},
   "outputs": [],
   "source": [
    "import csv\n",
    "path = \"Face_Mask/Test\"\n",
    "with open('Face_Mask_Result.csv', mode='w') as features:\n",
    "  features_writer = csv.writer(features, delimiter=',')\n",
    "  features_writer.writerow(['Features extracted from Pictures',\"Result\"])\n",
    "  for folder in (os.listdir(path)):\n",
    "    fp = os.path.join(path,folder)\n",
    "    for eachImage in os.listdir(fp):\n",
    "      imagePath = os.path.join(fp,eachImage)\n",
    "      prediction = model.predict(prepare(imagePath))\n",
    "      CATEGORIES = [\"without_mask\",\"with_mask\"]\n",
    "      pred_class = CATEGORIES[np.argmax(prediction)] \n",
    "      features_writer.writerow([imagePath,pred_class])"
   ]
  },
  {
   "cell_type": "code",
   "execution_count": null,
   "metadata": {},
   "outputs": [],
   "source": []
  }
 ],
 "metadata": {
  "kernelspec": {
   "name": "python3",
   "display_name": "Python 3.8.7 64-bit",
   "metadata": {
    "interpreter": {
     "hash": "1fbf3d6cce3058cc0607876ed137e0785a475ecbc7abf4be40acaed2a727c7ca"
    }
   }
  },
  "language_info": {
   "codemirror_mode": {
    "name": "ipython",
    "version": 3
   },
   "file_extension": ".py",
   "mimetype": "text/x-python",
   "name": "python",
   "nbconvert_exporter": "python",
   "pygments_lexer": "ipython3",
   "version": "3.8.7-final"
  }
 },
 "nbformat": 4,
 "nbformat_minor": 2
}